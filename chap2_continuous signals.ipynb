{
 "cells": [
  {
   "cell_type": "markdown",
   "id": "1cc258cc",
   "metadata": {},
   "source": [
    "# Chapter 2. Continuous Signals"
   ]
  },
  {
   "cell_type": "code",
   "execution_count": 3,
   "id": "a81fa8f7",
   "metadata": {},
   "outputs": [],
   "source": [
    "import matplotlib.pyplot as plt\n",
    "import numpy as np\n",
    "import scienceplots\n",
    "import math"
   ]
  },
  {
   "cell_type": "code",
   "execution_count": 4,
   "id": "8becfcd3",
   "metadata": {},
   "outputs": [],
   "source": [
    "plt.style.use(['science', 'notebook', 'grid'])"
   ]
  },
  {
   "cell_type": "code",
   "execution_count": 5,
   "id": "aa44b32a",
   "metadata": {},
   "outputs": [],
   "source": [
    "def hyp(a, b):\n",
    "    '''\n",
    "    define function hyp\n",
    "    '''\n",
    "    c = math.sqrt(a**2 + b**2)\n",
    "    return c"
   ]
  },
  {
   "cell_type": "code",
   "execution_count": 17,
   "id": "faf98924",
   "metadata": {},
   "outputs": [],
   "source": [
    "def us(x):\n",
    "    '''\n",
    "    define function unit step\n",
    "    '''\n",
    "    y = np.heaviside(x, 0.5)\n",
    "    return y"
   ]
  },
  {
   "cell_type": "code",
   "execution_count": 18,
   "id": "7b772e47",
   "metadata": {},
   "outputs": [],
   "source": [
    "def ramp(x):\n",
    "    '''\n",
    "    define function ramp\n",
    "    '''\n",
    "    y = x * us(x)\n",
    "    return x"
   ]
  },
  {
   "cell_type": "code",
   "execution_count": 19,
   "id": "b32f8aa8",
   "metadata": {},
   "outputs": [],
   "source": [
    "def rect(x):\n",
    "    '''\n",
    "    define function rect\n",
    "    '''\n",
    "    y = us(x+0.5) - us(x-0.5)\n",
    "    return y"
   ]
  },
  {
   "cell_type": "code",
   "execution_count": 20,
   "id": "0caf26a5",
   "metadata": {},
   "outputs": [
    {
     "name": "stdout",
     "output_type": "stream",
     "text": [
      "[  2.71828183   7.3890561   20.08553692  54.59815003 148.4131591 ]\n"
     ]
    }
   ],
   "source": [
    "x = range(1, 6)\n",
    "y = np.exp(x)\n",
    "print(y)"
   ]
  },
  {
   "cell_type": "code",
   "execution_count": 22,
   "id": "9341efb9",
   "metadata": {},
   "outputs": [
    {
     "name": "stdout",
     "output_type": "stream",
     "text": [
      "30.3 µs ± 314 ns per loop (mean ± std. dev. of 7 runs, 10000 loops each)\n"
     ]
    }
   ],
   "source": [
    "%%timeit\n",
    "x = np.linspace(-5, 5, 11)\n",
    "y = us(x)\n",
    "x, y"
   ]
  },
  {
   "cell_type": "code",
   "execution_count": null,
   "id": "e0731365",
   "metadata": {},
   "outputs": [],
   "source": []
  }
 ],
 "metadata": {
  "kernelspec": {
   "display_name": "Python 3 (ipykernel)",
   "language": "python",
   "name": "python3"
  },
  "language_info": {
   "codemirror_mode": {
    "name": "ipython",
    "version": 3
   },
   "file_extension": ".py",
   "mimetype": "text/x-python",
   "name": "python",
   "nbconvert_exporter": "python",
   "pygments_lexer": "ipython3",
   "version": "3.9.13"
  }
 },
 "nbformat": 4,
 "nbformat_minor": 5
}
